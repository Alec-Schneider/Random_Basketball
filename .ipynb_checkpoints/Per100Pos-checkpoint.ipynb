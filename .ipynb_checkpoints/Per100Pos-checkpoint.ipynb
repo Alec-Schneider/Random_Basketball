{
 "cells": [
  {
   "cell_type": "code",
   "execution_count": 1,
   "metadata": {},
   "outputs": [],
   "source": [
    "import pandas as pd\n",
    "import matplotlib.pyplot as plt\n",
    "%matplotlib inline"
   ]
  },
  {
   "cell_type": "code",
   "execution_count": 2,
   "metadata": {},
   "outputs": [],
   "source": [
    "per100 = pd.read_html('https://www.basketball-reference.com/leagues/NBA_2019_per_poss.html')"
   ]
  },
  {
   "cell_type": "code",
   "execution_count": 3,
   "metadata": {},
   "outputs": [],
   "source": [
    "per100 = pd.DataFrame(per100[0])"
   ]
  },
  {
   "cell_type": "code",
   "execution_count": 4,
   "metadata": {},
   "outputs": [],
   "source": [
    "for num, row in per100.iterrows():\n",
    "    if row['Rk'] == 'Rk':\n",
    "        per100.drop(num, axis=0, inplace=True)"
   ]
  },
  {
   "cell_type": "code",
   "execution_count": 5,
   "metadata": {},
   "outputs": [],
   "source": [
    "cols = ['Age', 'G', 'GS', 'MP', 'FG', 'FGA', 'FG%',\n",
    "       '3P', '3PA', '3P%', '2P', '2PA', '2P%', 'FT', 'FTA', 'FT%', 'ORB',\n",
    "       'DRB', 'TRB', 'AST', 'STL', 'BLK', 'TOV', 'PF', 'PTS','ORtg', 'DRtg']"
   ]
  },
  {
   "cell_type": "code",
   "execution_count": 6,
   "metadata": {},
   "outputs": [],
   "source": [
    "for i in cols:\n",
    "    per100[i] = per100[i].astype(float).fillna(0)"
   ]
  },
  {
   "cell_type": "code",
   "execution_count": 7,
   "metadata": {},
   "outputs": [
    {
     "data": {
      "text/html": [
       "<div>\n",
       "<style scoped>\n",
       "    .dataframe tbody tr th:only-of-type {\n",
       "        vertical-align: middle;\n",
       "    }\n",
       "\n",
       "    .dataframe tbody tr th {\n",
       "        vertical-align: top;\n",
       "    }\n",
       "\n",
       "    .dataframe thead th {\n",
       "        text-align: right;\n",
       "    }\n",
       "</style>\n",
       "<table border=\"1\" class=\"dataframe\">\n",
       "  <thead>\n",
       "    <tr style=\"text-align: right;\">\n",
       "      <th></th>\n",
       "      <th>Age</th>\n",
       "      <th>G</th>\n",
       "      <th>GS</th>\n",
       "      <th>MP</th>\n",
       "      <th>FG</th>\n",
       "      <th>FGA</th>\n",
       "      <th>FG%</th>\n",
       "      <th>3P</th>\n",
       "      <th>3PA</th>\n",
       "      <th>3P%</th>\n",
       "      <th>...</th>\n",
       "      <th>TRB</th>\n",
       "      <th>AST</th>\n",
       "      <th>STL</th>\n",
       "      <th>BLK</th>\n",
       "      <th>TOV</th>\n",
       "      <th>PF</th>\n",
       "      <th>PTS</th>\n",
       "      <th>Unnamed: 29</th>\n",
       "      <th>ORtg</th>\n",
       "      <th>DRtg</th>\n",
       "    </tr>\n",
       "  </thead>\n",
       "  <tbody>\n",
       "    <tr>\n",
       "      <th>count</th>\n",
       "      <td>699.000000</td>\n",
       "      <td>699.000000</td>\n",
       "      <td>699.000000</td>\n",
       "      <td>699.000000</td>\n",
       "      <td>699.000000</td>\n",
       "      <td>699.000000</td>\n",
       "      <td>699.000000</td>\n",
       "      <td>699.000000</td>\n",
       "      <td>699.000000</td>\n",
       "      <td>699.000000</td>\n",
       "      <td>...</td>\n",
       "      <td>699.000000</td>\n",
       "      <td>699.000000</td>\n",
       "      <td>699.000000</td>\n",
       "      <td>699.000000</td>\n",
       "      <td>699.000000</td>\n",
       "      <td>699.000000</td>\n",
       "      <td>699.000000</td>\n",
       "      <td>0.0</td>\n",
       "      <td>699.000000</td>\n",
       "      <td>699.000000</td>\n",
       "    </tr>\n",
       "    <tr>\n",
       "      <th>mean</th>\n",
       "      <td>26.168813</td>\n",
       "      <td>42.124464</td>\n",
       "      <td>19.479256</td>\n",
       "      <td>954.463519</td>\n",
       "      <td>7.163519</td>\n",
       "      <td>16.462804</td>\n",
       "      <td>0.431080</td>\n",
       "      <td>2.013448</td>\n",
       "      <td>6.128326</td>\n",
       "      <td>0.291162</td>\n",
       "      <td>...</td>\n",
       "      <td>9.001431</td>\n",
       "      <td>4.267668</td>\n",
       "      <td>1.476824</td>\n",
       "      <td>0.916023</td>\n",
       "      <td>2.493133</td>\n",
       "      <td>4.534335</td>\n",
       "      <td>19.321316</td>\n",
       "      <td>NaN</td>\n",
       "      <td>105.881259</td>\n",
       "      <td>110.985694</td>\n",
       "    </tr>\n",
       "    <tr>\n",
       "      <th>std</th>\n",
       "      <td>4.154619</td>\n",
       "      <td>25.605844</td>\n",
       "      <td>25.456363</td>\n",
       "      <td>788.717108</td>\n",
       "      <td>3.207883</td>\n",
       "      <td>5.482095</td>\n",
       "      <td>0.117974</td>\n",
       "      <td>1.453853</td>\n",
       "      <td>3.927874</td>\n",
       "      <td>0.156313</td>\n",
       "      <td>...</td>\n",
       "      <td>5.232480</td>\n",
       "      <td>2.794896</td>\n",
       "      <td>1.013805</td>\n",
       "      <td>1.041627</td>\n",
       "      <td>1.371176</td>\n",
       "      <td>2.032048</td>\n",
       "      <td>7.639545</td>\n",
       "      <td>NaN</td>\n",
       "      <td>22.193766</td>\n",
       "      <td>4.539836</td>\n",
       "    </tr>\n",
       "    <tr>\n",
       "      <th>min</th>\n",
       "      <td>19.000000</td>\n",
       "      <td>1.000000</td>\n",
       "      <td>0.000000</td>\n",
       "      <td>1.000000</td>\n",
       "      <td>0.000000</td>\n",
       "      <td>0.000000</td>\n",
       "      <td>0.000000</td>\n",
       "      <td>0.000000</td>\n",
       "      <td>0.000000</td>\n",
       "      <td>0.000000</td>\n",
       "      <td>...</td>\n",
       "      <td>0.000000</td>\n",
       "      <td>0.000000</td>\n",
       "      <td>0.000000</td>\n",
       "      <td>0.000000</td>\n",
       "      <td>0.000000</td>\n",
       "      <td>0.000000</td>\n",
       "      <td>0.000000</td>\n",
       "      <td>NaN</td>\n",
       "      <td>0.000000</td>\n",
       "      <td>90.000000</td>\n",
       "    </tr>\n",
       "    <tr>\n",
       "      <th>25%</th>\n",
       "      <td>23.000000</td>\n",
       "      <td>19.000000</td>\n",
       "      <td>0.000000</td>\n",
       "      <td>235.000000</td>\n",
       "      <td>5.500000</td>\n",
       "      <td>13.400000</td>\n",
       "      <td>0.393500</td>\n",
       "      <td>1.000000</td>\n",
       "      <td>3.800000</td>\n",
       "      <td>0.250000</td>\n",
       "      <td>...</td>\n",
       "      <td>5.450000</td>\n",
       "      <td>2.400000</td>\n",
       "      <td>1.000000</td>\n",
       "      <td>0.300000</td>\n",
       "      <td>1.700000</td>\n",
       "      <td>3.300000</td>\n",
       "      <td>15.100000</td>\n",
       "      <td>NaN</td>\n",
       "      <td>100.000000</td>\n",
       "      <td>108.000000</td>\n",
       "    </tr>\n",
       "    <tr>\n",
       "      <th>50%</th>\n",
       "      <td>26.000000</td>\n",
       "      <td>44.000000</td>\n",
       "      <td>6.000000</td>\n",
       "      <td>786.000000</td>\n",
       "      <td>6.800000</td>\n",
       "      <td>16.000000</td>\n",
       "      <td>0.432000</td>\n",
       "      <td>2.100000</td>\n",
       "      <td>6.300000</td>\n",
       "      <td>0.332000</td>\n",
       "      <td>...</td>\n",
       "      <td>7.700000</td>\n",
       "      <td>3.500000</td>\n",
       "      <td>1.400000</td>\n",
       "      <td>0.700000</td>\n",
       "      <td>2.300000</td>\n",
       "      <td>4.300000</td>\n",
       "      <td>18.800000</td>\n",
       "      <td>NaN</td>\n",
       "      <td>108.000000</td>\n",
       "      <td>111.000000</td>\n",
       "    </tr>\n",
       "    <tr>\n",
       "      <th>75%</th>\n",
       "      <td>29.000000</td>\n",
       "      <td>66.000000</td>\n",
       "      <td>32.000000</td>\n",
       "      <td>1547.500000</td>\n",
       "      <td>8.800000</td>\n",
       "      <td>19.100000</td>\n",
       "      <td>0.483000</td>\n",
       "      <td>2.900000</td>\n",
       "      <td>8.600000</td>\n",
       "      <td>0.368000</td>\n",
       "      <td>...</td>\n",
       "      <td>11.650000</td>\n",
       "      <td>5.750000</td>\n",
       "      <td>1.800000</td>\n",
       "      <td>1.200000</td>\n",
       "      <td>3.100000</td>\n",
       "      <td>5.500000</td>\n",
       "      <td>23.350000</td>\n",
       "      <td>NaN</td>\n",
       "      <td>115.000000</td>\n",
       "      <td>114.000000</td>\n",
       "    </tr>\n",
       "    <tr>\n",
       "      <th>max</th>\n",
       "      <td>42.000000</td>\n",
       "      <td>80.000000</td>\n",
       "      <td>80.000000</td>\n",
       "      <td>2988.000000</td>\n",
       "      <td>49.100000</td>\n",
       "      <td>49.100000</td>\n",
       "      <td>1.000000</td>\n",
       "      <td>11.600000</td>\n",
       "      <td>46.700000</td>\n",
       "      <td>1.000000</td>\n",
       "      <td>...</td>\n",
       "      <td>46.700000</td>\n",
       "      <td>16.300000</td>\n",
       "      <td>12.300000</td>\n",
       "      <td>12.200000</td>\n",
       "      <td>12.300000</td>\n",
       "      <td>16.800000</td>\n",
       "      <td>98.200000</td>\n",
       "      <td>NaN</td>\n",
       "      <td>300.000000</td>\n",
       "      <td>125.000000</td>\n",
       "    </tr>\n",
       "  </tbody>\n",
       "</table>\n",
       "<p>8 rows × 28 columns</p>\n",
       "</div>"
      ],
      "text/plain": [
       "              Age           G          GS           MP          FG  \\\n",
       "count  699.000000  699.000000  699.000000   699.000000  699.000000   \n",
       "mean    26.168813   42.124464   19.479256   954.463519    7.163519   \n",
       "std      4.154619   25.605844   25.456363   788.717108    3.207883   \n",
       "min     19.000000    1.000000    0.000000     1.000000    0.000000   \n",
       "25%     23.000000   19.000000    0.000000   235.000000    5.500000   \n",
       "50%     26.000000   44.000000    6.000000   786.000000    6.800000   \n",
       "75%     29.000000   66.000000   32.000000  1547.500000    8.800000   \n",
       "max     42.000000   80.000000   80.000000  2988.000000   49.100000   \n",
       "\n",
       "              FGA         FG%          3P         3PA         3P%     ...      \\\n",
       "count  699.000000  699.000000  699.000000  699.000000  699.000000     ...       \n",
       "mean    16.462804    0.431080    2.013448    6.128326    0.291162     ...       \n",
       "std      5.482095    0.117974    1.453853    3.927874    0.156313     ...       \n",
       "min      0.000000    0.000000    0.000000    0.000000    0.000000     ...       \n",
       "25%     13.400000    0.393500    1.000000    3.800000    0.250000     ...       \n",
       "50%     16.000000    0.432000    2.100000    6.300000    0.332000     ...       \n",
       "75%     19.100000    0.483000    2.900000    8.600000    0.368000     ...       \n",
       "max     49.100000    1.000000   11.600000   46.700000    1.000000     ...       \n",
       "\n",
       "              TRB         AST         STL         BLK         TOV          PF  \\\n",
       "count  699.000000  699.000000  699.000000  699.000000  699.000000  699.000000   \n",
       "mean     9.001431    4.267668    1.476824    0.916023    2.493133    4.534335   \n",
       "std      5.232480    2.794896    1.013805    1.041627    1.371176    2.032048   \n",
       "min      0.000000    0.000000    0.000000    0.000000    0.000000    0.000000   \n",
       "25%      5.450000    2.400000    1.000000    0.300000    1.700000    3.300000   \n",
       "50%      7.700000    3.500000    1.400000    0.700000    2.300000    4.300000   \n",
       "75%     11.650000    5.750000    1.800000    1.200000    3.100000    5.500000   \n",
       "max     46.700000   16.300000   12.300000   12.200000   12.300000   16.800000   \n",
       "\n",
       "              PTS  Unnamed: 29        ORtg        DRtg  \n",
       "count  699.000000          0.0  699.000000  699.000000  \n",
       "mean    19.321316          NaN  105.881259  110.985694  \n",
       "std      7.639545          NaN   22.193766    4.539836  \n",
       "min      0.000000          NaN    0.000000   90.000000  \n",
       "25%     15.100000          NaN  100.000000  108.000000  \n",
       "50%     18.800000          NaN  108.000000  111.000000  \n",
       "75%     23.350000          NaN  115.000000  114.000000  \n",
       "max     98.200000          NaN  300.000000  125.000000  \n",
       "\n",
       "[8 rows x 28 columns]"
      ]
     },
     "execution_count": 7,
     "metadata": {},
     "output_type": "execute_result"
    }
   ],
   "source": [
    "per100.describe()"
   ]
  },
  {
   "cell_type": "code",
   "execution_count": 20,
   "metadata": {},
   "outputs": [
    {
     "name": "stdout",
     "output_type": "stream",
     "text": [
      "<class 'pandas.core.frame.DataFrame'>\n",
      "Int64Index: 699 entries, 0 to 724\n",
      "Data columns (total 32 columns):\n",
      "Rk        699 non-null object\n",
      "Player    699 non-null object\n",
      "Pos       699 non-null object\n",
      "Age       699 non-null float64\n",
      "Tm        699 non-null object\n",
      "G         699 non-null float64\n",
      "GS        699 non-null float64\n",
      "MP        699 non-null float64\n",
      "FG        699 non-null float64\n",
      "FGA       699 non-null float64\n",
      "FG%       699 non-null float64\n",
      "3P        699 non-null float64\n",
      "3PA       699 non-null float64\n",
      "3P%       699 non-null float64\n",
      "2P        699 non-null float64\n",
      "2PA       699 non-null float64\n",
      "2P%       699 non-null float64\n",
      "FT        699 non-null float64\n",
      "FTA       699 non-null float64\n",
      "FT%       699 non-null float64\n",
      "ORB       699 non-null float64\n",
      "DRB       699 non-null float64\n",
      "TRB       699 non-null float64\n",
      "AST       699 non-null float64\n",
      "STL       699 non-null float64\n",
      "BLK       699 non-null float64\n",
      "TOV       699 non-null float64\n",
      "PF        699 non-null float64\n",
      "PTS       699 non-null float64\n",
      "ORtg      699 non-null float64\n",
      "DRtg      699 non-null float64\n",
      "NetRtg    699 non-null float64\n",
      "dtypes: float64(28), object(4)\n",
      "memory usage: 180.2+ KB\n"
     ]
    }
   ],
   "source": [
    "per100.info()"
   ]
  },
  {
   "cell_type": "code",
   "execution_count": 9,
   "metadata": {},
   "outputs": [],
   "source": [
    "per100.drop('Unnamed: 29', axis=1, inplace=True)"
   ]
  },
  {
   "cell_type": "code",
   "execution_count": 11,
   "metadata": {},
   "outputs": [],
   "source": [
    "per100['NetRtg'] = per100['ORtg'] - per100['DRtg']"
   ]
  },
  {
   "cell_type": "code",
   "execution_count": 40,
   "metadata": {},
   "outputs": [],
   "source": [
    "#def leader_dict(df, stats):\n",
    "#    maxmin = {}\n",
    "#    for i in stats:\n",
    "#        maxmin[i] = (df[i].idxmax(), df[i].idxmin())\n",
    "#    return maxmin"
   ]
  },
  {
   "cell_type": "code",
   "execution_count": 66,
   "metadata": {},
   "outputs": [],
   "source": [
    "#def league_leader(df, stats, file, col='Player'):\n",
    "#    maxmin = leader_dict(df, stats)\n",
    "#    with open(file, 'w') as f:\n",
    "#        f.write('Current league leaders and worst:\\n')\n",
    "#        for key in maxmin.keys():\n",
    "#            f.write('Highest %s in the league is: %s %.2f\\n' \n",
    "#                    % (key, df.loc[maxmin[key][0], col],\n",
    "#                     df.loc[maxmin[key][0], key]))\n",
    "#            f.write('Lowest %s in the league is %s %.2f\\n' \n",
    "#                    % (key, df.loc[maxmin[key][1], col],\n",
    "#                        df.loc[maxmin[key][1], key]))"
   ]
  },
  {
   "cell_type": "code",
   "execution_count": 67,
   "metadata": {},
   "outputs": [],
   "source": [
    "#file = 'Per100Mar_24.txt'\n",
    "#league_leader(per100[per100['MP'] >= 1000], cols, file)"
   ]
  },
  {
   "cell_type": "code",
   "execution_count": 12,
   "metadata": {},
   "outputs": [],
   "source": [
    "#for line in open(file, 'r').readlines():\n",
    "#    print(line)"
   ]
  },
  {
   "cell_type": "code",
   "execution_count": 37,
   "metadata": {},
   "outputs": [
    {
     "ename": "ImportError",
     "evalue": "cannot import name 'sort_df'",
     "output_type": "error",
     "traceback": [
      "\u001b[1;31m---------------------------------------------------------------------------\u001b[0m",
      "\u001b[1;31mImportError\u001b[0m                               Traceback (most recent call last)",
      "\u001b[1;32m<ipython-input-37-acd3c8de63ad>\u001b[0m in \u001b[0;36m<module>\u001b[1;34m()\u001b[0m\n\u001b[0;32m      2\u001b[0m \u001b[1;32mimport\u001b[0m \u001b[0mseaborn\u001b[0m \u001b[1;32mas\u001b[0m \u001b[0msns\u001b[0m\u001b[1;33m\u001b[0m\u001b[0m\n\u001b[0;32m      3\u001b[0m \u001b[1;32mfrom\u001b[0m \u001b[0mimportlib\u001b[0m \u001b[1;32mimport\u001b[0m \u001b[0mreload\u001b[0m\u001b[1;33m\u001b[0m\u001b[0m\n\u001b[1;32m----> 4\u001b[1;33m \u001b[0mreload\u001b[0m\u001b[1;33m(\u001b[0m\u001b[0msns\u001b[0m\u001b[1;33m)\u001b[0m\u001b[1;33m\u001b[0m\u001b[0m\n\u001b[0m",
      "\u001b[1;32mC:\\Anaconda3\\lib\\importlib\\__init__.py\u001b[0m in \u001b[0;36mreload\u001b[1;34m(module)\u001b[0m\n\u001b[0;32m    164\u001b[0m         \u001b[0mtarget\u001b[0m \u001b[1;33m=\u001b[0m \u001b[0mmodule\u001b[0m\u001b[1;33m\u001b[0m\u001b[0m\n\u001b[0;32m    165\u001b[0m         \u001b[0mspec\u001b[0m \u001b[1;33m=\u001b[0m \u001b[0mmodule\u001b[0m\u001b[1;33m.\u001b[0m\u001b[0m__spec__\u001b[0m \u001b[1;33m=\u001b[0m \u001b[0m_bootstrap\u001b[0m\u001b[1;33m.\u001b[0m\u001b[0m_find_spec\u001b[0m\u001b[1;33m(\u001b[0m\u001b[0mname\u001b[0m\u001b[1;33m,\u001b[0m \u001b[0mpkgpath\u001b[0m\u001b[1;33m,\u001b[0m \u001b[0mtarget\u001b[0m\u001b[1;33m)\u001b[0m\u001b[1;33m\u001b[0m\u001b[0m\n\u001b[1;32m--> 166\u001b[1;33m         \u001b[0m_bootstrap\u001b[0m\u001b[1;33m.\u001b[0m\u001b[0m_exec\u001b[0m\u001b[1;33m(\u001b[0m\u001b[0mspec\u001b[0m\u001b[1;33m,\u001b[0m \u001b[0mmodule\u001b[0m\u001b[1;33m)\u001b[0m\u001b[1;33m\u001b[0m\u001b[0m\n\u001b[0m\u001b[0;32m    167\u001b[0m         \u001b[1;31m# The module may have replaced itself in sys.modules!\u001b[0m\u001b[1;33m\u001b[0m\u001b[1;33m\u001b[0m\u001b[0m\n\u001b[0;32m    168\u001b[0m         \u001b[1;32mreturn\u001b[0m \u001b[0msys\u001b[0m\u001b[1;33m.\u001b[0m\u001b[0mmodules\u001b[0m\u001b[1;33m[\u001b[0m\u001b[0mname\u001b[0m\u001b[1;33m]\u001b[0m\u001b[1;33m\u001b[0m\u001b[0m\n",
      "\u001b[1;32mC:\\Anaconda3\\lib\\importlib\\_bootstrap.py\u001b[0m in \u001b[0;36m_exec\u001b[1;34m(spec, module)\u001b[0m\n",
      "\u001b[1;32mC:\\Anaconda3\\lib\\importlib\\_bootstrap_external.py\u001b[0m in \u001b[0;36mexec_module\u001b[1;34m(self, module)\u001b[0m\n",
      "\u001b[1;32mC:\\Anaconda3\\lib\\importlib\\_bootstrap.py\u001b[0m in \u001b[0;36m_call_with_frames_removed\u001b[1;34m(f, *args, **kwds)\u001b[0m\n",
      "\u001b[1;32mC:\\Anaconda3\\lib\\site-packages\\seaborn\\__init__.py\u001b[0m in \u001b[0;36m<module>\u001b[1;34m()\u001b[0m\n\u001b[0;32m      7\u001b[0m \u001b[1;32mfrom\u001b[0m \u001b[1;33m.\u001b[0m\u001b[0mutils\u001b[0m \u001b[1;32mimport\u001b[0m \u001b[1;33m*\u001b[0m\u001b[1;33m\u001b[0m\u001b[0m\n\u001b[0;32m      8\u001b[0m \u001b[1;32mfrom\u001b[0m \u001b[1;33m.\u001b[0m\u001b[0mpalettes\u001b[0m \u001b[1;32mimport\u001b[0m \u001b[1;33m*\u001b[0m\u001b[1;33m\u001b[0m\u001b[0m\n\u001b[1;32m----> 9\u001b[1;33m \u001b[1;32mfrom\u001b[0m \u001b[1;33m.\u001b[0m\u001b[0mrelational\u001b[0m \u001b[1;32mimport\u001b[0m \u001b[1;33m*\u001b[0m\u001b[1;33m\u001b[0m\u001b[0m\n\u001b[0m\u001b[0;32m     10\u001b[0m \u001b[1;32mfrom\u001b[0m \u001b[1;33m.\u001b[0m\u001b[0mregression\u001b[0m \u001b[1;32mimport\u001b[0m \u001b[1;33m*\u001b[0m\u001b[1;33m\u001b[0m\u001b[0m\n\u001b[0;32m     11\u001b[0m \u001b[1;32mfrom\u001b[0m \u001b[1;33m.\u001b[0m\u001b[0mcategorical\u001b[0m \u001b[1;32mimport\u001b[0m \u001b[1;33m*\u001b[0m\u001b[1;33m\u001b[0m\u001b[0m\n",
      "\u001b[1;32mC:\\Anaconda3\\lib\\site-packages\\seaborn\\relational.py\u001b[0m in \u001b[0;36m<module>\u001b[1;34m()\u001b[0m\n\u001b[0;32m     12\u001b[0m \u001b[1;33m\u001b[0m\u001b[0m\n\u001b[0;32m     13\u001b[0m \u001b[1;32mfrom\u001b[0m \u001b[1;33m.\u001b[0m \u001b[1;32mimport\u001b[0m \u001b[0mutils\u001b[0m\u001b[1;33m\u001b[0m\u001b[0m\n\u001b[1;32m---> 14\u001b[1;33m from .utils import (categorical_order, get_color_cycle, ci_to_errsize, sort_df,\n\u001b[0m\u001b[0;32m     15\u001b[0m                     remove_na)\n\u001b[0;32m     16\u001b[0m \u001b[1;32mfrom\u001b[0m \u001b[1;33m.\u001b[0m\u001b[0malgorithms\u001b[0m \u001b[1;32mimport\u001b[0m \u001b[0mbootstrap\u001b[0m\u001b[1;33m\u001b[0m\u001b[0m\n",
      "\u001b[1;31mImportError\u001b[0m: cannot import name 'sort_df'"
     ]
    }
   ],
   "source": [
    "import Stats\n",
    "import seaborn as sns\n",
    "from importlib import reload\n",
    "reload(sns)"
   ]
  },
  {
   "cell_type": "code",
   "execution_count": 19,
   "metadata": {},
   "outputs": [
    {
     "name": "stdout",
     "output_type": "stream",
     "text": [
      "Help on package seaborn:\n",
      "\n",
      "NAME\n",
      "    seaborn - # Capture the original matplotlib rcParams\n",
      "\n",
      "PACKAGE CONTENTS\n",
      "    algorithms\n",
      "    apionly\n",
      "    axisgrid\n",
      "    categorical\n",
      "    cm\n",
      "    crayons\n",
      "    distributions\n",
      "    external (package)\n",
      "    linearmodels\n",
      "    matrix\n",
      "    miscplot\n",
      "    palettes\n",
      "    rcmod\n",
      "    regression\n",
      "    tests (package)\n",
      "    timeseries\n",
      "    utils\n",
      "    widgets\n",
      "    xkcd_rgb\n",
      "\n",
      "DATA\n",
      "    crayons = {'Almond': '#EFDECD', 'Antique Brass': '#CD9575', 'Apricot':...\n",
      "    xkcd_rgb = {'acid green': '#8ffe09', 'adobe': '#bd6c48', 'algae': '#54...\n",
      "\n",
      "VERSION\n",
      "    0.8.1\n",
      "\n",
      "FILE\n",
      "    c:\\anaconda3\\lib\\site-packages\\seaborn\\__init__.py\n",
      "\n",
      "\n"
     ]
    }
   ],
   "source": [
    "help(sns)"
   ]
  },
  {
   "cell_type": "code",
   "execution_count": 22,
   "metadata": {},
   "outputs": [],
   "source": [
    "stat_df = Stats.Stats(per100)"
   ]
  },
  {
   "cell_type": "code",
   "execution_count": 24,
   "metadata": {},
   "outputs": [],
   "source": [
    "maxmin = stat_df.leader_dict(cols)"
   ]
  },
  {
   "cell_type": "code",
   "execution_count": 25,
   "metadata": {},
   "outputs": [],
   "source": [
    "per100['3p_per'] = per100['3PA'] / per100['FGA']\n",
    "per100['2p_per'] = per100['2PA'] / per100['FGA']"
   ]
  },
  {
   "cell_type": "code",
   "execution_count": 27,
   "metadata": {},
   "outputs": [
    {
     "data": {
      "text/plain": [
       "Index(['Rk', 'Player', 'Pos', 'Age', 'Tm', 'G', 'GS', 'MP', 'FG', 'FGA', 'FG%',\n",
       "       '3P', '3PA', '3P%', '2P', '2PA', '2P%', 'FT', 'FTA', 'FT%', 'ORB',\n",
       "       'DRB', 'TRB', 'AST', 'STL', 'BLK', 'TOV', 'PF', 'PTS', 'ORtg', 'DRtg',\n",
       "       'NetRtg', '3p_per', '2p_per'],\n",
       "      dtype='object')"
      ]
     },
     "execution_count": 27,
     "metadata": {},
     "output_type": "execute_result"
    }
   ],
   "source": [
    "per100.columns"
   ]
  },
  {
   "cell_type": "code",
   "execution_count": 36,
   "metadata": {},
   "outputs": [
    {
     "data": {
      "text/plain": [
       "Text(0.5,0,'3PA per 100pos')"
      ]
     },
     "execution_count": 36,
     "metadata": {},
     "output_type": "execute_result"
    },
    {
     "data": {
      "image/png": "[encoded data removed]",
      "text/plain": [
       "<Figure size 576x576 with 1 Axes>"
      ]
     },
     "metadata": {},
     "output_type": "display_data"
    }
   ],
   "source": [
    "plt.figure(figsize=(8,8))\n",
    "per100[per100['MP'] >= 1000].groupby('Player')['3PA'].mean().nlargest(25).plot(kind='barh')\n",
    "plt.ylabel('Player')\n",
    "plt.xlabel('3PA per 100pos')"
   ]
  },
  {
   "cell_type": "code",
   "execution_count": 33,
   "metadata": {},
   "outputs": [
    {
     "data": {
      "text/plain": [
       "Stats.Stats"
      ]
     },
     "execution_count": 33,
     "metadata": {},
     "output_type": "execute_result"
    }
   ],
   "source": [
    "type(stat_df)"
   ]
  },
  {
   "cell_type": "code",
   "execution_count": 34,
   "metadata": {},
   "outputs": [
    {
     "ename": "TypeError",
     "evalue": "'Stats' object is not subscriptable",
     "output_type": "error",
     "traceback": [
      "\u001b[1;31m---------------------------------------------------------------------------\u001b[0m",
      "\u001b[1;31mTypeError\u001b[0m                                 Traceback (most recent call last)",
      "\u001b[1;32m<ipython-input-34-c7f26449649b>\u001b[0m in \u001b[0;36m<module>\u001b[1;34m()\u001b[0m\n\u001b[1;32m----> 1\u001b[1;33m \u001b[0mstat_df\u001b[0m\u001b[1;33m[\u001b[0m\u001b[0mstat_df\u001b[0m\u001b[1;33m[\u001b[0m\u001b[1;34m'MP'\u001b[0m\u001b[1;33m]\u001b[0m \u001b[1;33m>=\u001b[0m \u001b[1;36m1000\u001b[0m\u001b[1;33m]\u001b[0m\u001b[1;33m\u001b[0m\u001b[0m\n\u001b[0m",
      "\u001b[1;31mTypeError\u001b[0m: 'Stats' object is not subscriptable"
     ]
    }
   ],
   "source": [
    "stat_df[stat_df['MP'] >= 1000]"
   ]
  },
  {
   "cell_type": "code",
   "execution_count": null,
   "metadata": {},
   "outputs": [],
   "source": []
  },
  {
   "cell_type": "code",
   "execution_count": null,
   "metadata": {},
   "outputs": [],
   "source": []
  }
 ],
 "metadata": {
  "kernelspec": {
   "display_name": "Python 3",
   "language": "python",
   "name": "python3"
  },
  "language_info": {
   "codemirror_mode": {
    "name": "ipython",
    "version": 3
   },
   "file_extension": ".py",
   "mimetype": "text/x-python",
   "name": "python",
   "nbconvert_exporter": "python",
   "pygments_lexer": "ipython3",
   "version": "3.6.5"
  }
 },
 "nbformat": 4,
 "nbformat_minor": 2
}

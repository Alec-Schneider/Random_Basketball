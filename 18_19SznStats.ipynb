{
 "cells": [
  {
   "cell_type": "code",
   "execution_count": 1,
   "metadata": {},
   "outputs": [],
   "source": [
    "import numpy as np\n",
    "import pandas as pd\n",
    "import matplotlib.pyplot as plt\n",
    "%matplotlib inline"
   ]
  },
  {
   "cell_type": "code",
   "execution_count": 2,
   "metadata": {},
   "outputs": [
    {
     "data": {
      "text/plain": [
       "\"<class 'list'>\""
      ]
     },
     "execution_count": 2,
     "metadata": {},
     "output_type": "execute_result"
    }
   ],
   "source": [
    "# Read url for advanced stats data\n",
    "df = pd.read_html('https://www.basketball-reference.com/leagues/NBA_2019_advanced.html')\n",
    "'%s' % type(df)\n"
   ]
  },
  {
   "cell_type": "code",
   "execution_count": 3,
   "metadata": {},
   "outputs": [],
   "source": [
    "# read_html returns list object\n",
    "# data in first index of list for Basketball Reference\n",
    "df = pd.DataFrame(df[0])"
   ]
  },
  {
   "cell_type": "code",
   "execution_count": 4,
   "metadata": {},
   "outputs": [
    {
     "data": {
      "text/plain": [
       "(714, 29)"
      ]
     },
     "execution_count": 4,
     "metadata": {},
     "output_type": "execute_result"
    }
   ],
   "source": [
    "# Check shape\n",
    "df.shape"
   ]
  },
  {
   "cell_type": "code",
   "execution_count": 5,
   "metadata": {},
   "outputs": [
    {
     "name": "stdout",
     "output_type": "stream",
     "text": [
      "<class 'pandas.core.frame.DataFrame'>\n",
      "RangeIndex: 714 entries, 0 to 713\n",
      "Data columns (total 29 columns):\n",
      "Rk             714 non-null object\n",
      "Player         714 non-null object\n",
      "Pos            714 non-null object\n",
      "Age            714 non-null object\n",
      "Tm             714 non-null object\n",
      "G              714 non-null object\n",
      "MP             714 non-null object\n",
      "PER            714 non-null object\n",
      "TS%            708 non-null object\n",
      "3PAr           705 non-null object\n",
      "FTr            705 non-null object\n",
      "ORB%           714 non-null object\n",
      "DRB%           714 non-null object\n",
      "TRB%           714 non-null object\n",
      "AST%           714 non-null object\n",
      "STL%           714 non-null object\n",
      "BLK%           714 non-null object\n",
      "TOV%           708 non-null object\n",
      "USG%           714 non-null object\n",
      "Unnamed: 19    0 non-null float64\n",
      "OWS            714 non-null object\n",
      "DWS            714 non-null object\n",
      "WS             714 non-null object\n",
      "WS/48          714 non-null object\n",
      "Unnamed: 24    0 non-null float64\n",
      "OBPM           714 non-null object\n",
      "DBPM           714 non-null object\n",
      "BPM            714 non-null object\n",
      "VORP           714 non-null object\n",
      "dtypes: float64(2), object(27)\n",
      "memory usage: 161.8+ KB\n"
     ]
    }
   ],
   "source": [
    "# Remember to turn stats data into floats\n",
    "# Also, drop rows that repeat the headers\n",
    "df.info()"
   ]
  },
  {
   "cell_type": "code",
   "execution_count": 6,
   "metadata": {},
   "outputs": [],
   "source": [
    "# Iterate throguh DataFrame and drop all header rows\n",
    "for num, row in df.iterrows():\n",
    "    if row['Rk'] == 'Rk':\n",
    "        df.drop(num, axis=0, inplace=True)"
   ]
  },
  {
   "cell_type": "code",
   "execution_count": 7,
   "metadata": {},
   "outputs": [],
   "source": [
    "# Designate cols to convert to columns\n",
    "cols = ['Rk', 'Age', 'G', 'MP', 'PER', 'TS%', '3PAr', \n",
    "        'FTr', 'ORB%', 'DRB%', 'TRB%', 'AST%', 'STL%', \n",
    "        'BLK%', 'TOV%', 'USG%', 'OWS', 'DWS', 'WS', 'WS/48',\n",
    "        'OBPM', 'DBPM', 'BPM', 'VORP']\n",
    "for i in cols:\n",
    "    df[i] = df[i].astype(float).fillna(0)"
   ]
  },
  {
   "cell_type": "code",
   "execution_count": 8,
   "metadata": {},
   "outputs": [],
   "source": [
    "df.columns\n",
    "df.drop(['Unnamed: 19', 'Unnamed: 24'], axis=1, inplace=True)"
   ]
  },
  {
   "cell_type": "code",
   "execution_count": 10,
   "metadata": {},
   "outputs": [
    {
     "data": {
      "text/html": [
       "<div>\n",
       "<style scoped>\n",
       "    .dataframe tbody tr th:only-of-type {\n",
       "        vertical-align: middle;\n",
       "    }\n",
       "\n",
       "    .dataframe tbody tr th {\n",
       "        vertical-align: top;\n",
       "    }\n",
       "\n",
       "    .dataframe thead th {\n",
       "        text-align: right;\n",
       "    }\n",
       "</style>\n",
       "<table border=\"1\" class=\"dataframe\">\n",
       "  <thead>\n",
       "    <tr style=\"text-align: right;\">\n",
       "      <th></th>\n",
       "      <th>Rk</th>\n",
       "      <th>Player</th>\n",
       "      <th>Pos</th>\n",
       "      <th>Age</th>\n",
       "      <th>Tm</th>\n",
       "      <th>G</th>\n",
       "      <th>MP</th>\n",
       "      <th>PER</th>\n",
       "      <th>TS%</th>\n",
       "      <th>3PAr</th>\n",
       "      <th>...</th>\n",
       "      <th>TOV%</th>\n",
       "      <th>USG%</th>\n",
       "      <th>OWS</th>\n",
       "      <th>DWS</th>\n",
       "      <th>WS</th>\n",
       "      <th>WS/48</th>\n",
       "      <th>OBPM</th>\n",
       "      <th>DBPM</th>\n",
       "      <th>BPM</th>\n",
       "      <th>VORP</th>\n",
       "    </tr>\n",
       "  </thead>\n",
       "  <tbody>\n",
       "    <tr>\n",
       "      <th>8</th>\n",
       "      <td>9.0</td>\n",
       "      <td>Rawle Alkins</td>\n",
       "      <td>SG</td>\n",
       "      <td>21.0</td>\n",
       "      <td>CHI</td>\n",
       "      <td>3.0</td>\n",
       "      <td>6.0</td>\n",
       "      <td>37.9</td>\n",
       "      <td>0.375</td>\n",
       "      <td>0.250</td>\n",
       "      <td>...</td>\n",
       "      <td>0.0</td>\n",
       "      <td>29.2</td>\n",
       "      <td>0.0</td>\n",
       "      <td>0.0</td>\n",
       "      <td>0.0</td>\n",
       "      <td>0.351</td>\n",
       "      <td>20.0</td>\n",
       "      <td>7.2</td>\n",
       "      <td>27.2</td>\n",
       "      <td>0.0</td>\n",
       "    </tr>\n",
       "    <tr>\n",
       "      <th>535</th>\n",
       "      <td>391.0</td>\n",
       "      <td>Gary Payton</td>\n",
       "      <td>PG</td>\n",
       "      <td>26.0</td>\n",
       "      <td>WAS</td>\n",
       "      <td>3.0</td>\n",
       "      <td>16.0</td>\n",
       "      <td>37.0</td>\n",
       "      <td>0.688</td>\n",
       "      <td>0.250</td>\n",
       "      <td>...</td>\n",
       "      <td>11.1</td>\n",
       "      <td>23.9</td>\n",
       "      <td>0.1</td>\n",
       "      <td>0.0</td>\n",
       "      <td>0.1</td>\n",
       "      <td>0.359</td>\n",
       "      <td>9.8</td>\n",
       "      <td>5.1</td>\n",
       "      <td>15.0</td>\n",
       "      <td>0.1</td>\n",
       "    </tr>\n",
       "    <tr>\n",
       "      <th>269</th>\n",
       "      <td>202.0</td>\n",
       "      <td>James Harden</td>\n",
       "      <td>SG</td>\n",
       "      <td>29.0</td>\n",
       "      <td>HOU</td>\n",
       "      <td>69.0</td>\n",
       "      <td>2575.0</td>\n",
       "      <td>30.5</td>\n",
       "      <td>0.612</td>\n",
       "      <td>0.537</td>\n",
       "      <td>...</td>\n",
       "      <td>14.5</td>\n",
       "      <td>40.6</td>\n",
       "      <td>10.0</td>\n",
       "      <td>3.1</td>\n",
       "      <td>13.1</td>\n",
       "      <td>0.245</td>\n",
       "      <td>10.5</td>\n",
       "      <td>0.9</td>\n",
       "      <td>11.4</td>\n",
       "      <td>8.7</td>\n",
       "    </tr>\n",
       "    <tr>\n",
       "      <th>19</th>\n",
       "      <td>18.0</td>\n",
       "      <td>Giannis Antetokounmpo</td>\n",
       "      <td>PF</td>\n",
       "      <td>24.0</td>\n",
       "      <td>MIL</td>\n",
       "      <td>66.0</td>\n",
       "      <td>2173.0</td>\n",
       "      <td>30.7</td>\n",
       "      <td>0.643</td>\n",
       "      <td>0.156</td>\n",
       "      <td>...</td>\n",
       "      <td>15.2</td>\n",
       "      <td>32.1</td>\n",
       "      <td>8.1</td>\n",
       "      <td>5.2</td>\n",
       "      <td>13.2</td>\n",
       "      <td>0.292</td>\n",
       "      <td>5.7</td>\n",
       "      <td>5.2</td>\n",
       "      <td>10.9</td>\n",
       "      <td>7.1</td>\n",
       "    </tr>\n",
       "    <tr>\n",
       "      <th>127</th>\n",
       "      <td>98.0</td>\n",
       "      <td>Troy Caupain</td>\n",
       "      <td>PG</td>\n",
       "      <td>23.0</td>\n",
       "      <td>ORL</td>\n",
       "      <td>3.0</td>\n",
       "      <td>12.0</td>\n",
       "      <td>32.0</td>\n",
       "      <td>0.667</td>\n",
       "      <td>0.500</td>\n",
       "      <td>...</td>\n",
       "      <td>0.0</td>\n",
       "      <td>21.8</td>\n",
       "      <td>0.1</td>\n",
       "      <td>0.0</td>\n",
       "      <td>0.1</td>\n",
       "      <td>0.375</td>\n",
       "      <td>9.7</td>\n",
       "      <td>0.2</td>\n",
       "      <td>9.9</td>\n",
       "      <td>0.0</td>\n",
       "    </tr>\n",
       "  </tbody>\n",
       "</table>\n",
       "<p>5 rows × 27 columns</p>\n",
       "</div>"
      ],
      "text/plain": [
       "        Rk                 Player Pos   Age   Tm     G      MP   PER    TS%  \\\n",
       "8      9.0           Rawle Alkins  SG  21.0  CHI   3.0     6.0  37.9  0.375   \n",
       "535  391.0            Gary Payton  PG  26.0  WAS   3.0    16.0  37.0  0.688   \n",
       "269  202.0           James Harden  SG  29.0  HOU  69.0  2575.0  30.5  0.612   \n",
       "19    18.0  Giannis Antetokounmpo  PF  24.0  MIL  66.0  2173.0  30.7  0.643   \n",
       "127   98.0           Troy Caupain  PG  23.0  ORL   3.0    12.0  32.0  0.667   \n",
       "\n",
       "      3PAr  ...   TOV%  USG%   OWS  DWS    WS  WS/48  OBPM  DBPM   BPM  VORP  \n",
       "8    0.250  ...    0.0  29.2   0.0  0.0   0.0  0.351  20.0   7.2  27.2   0.0  \n",
       "535  0.250  ...   11.1  23.9   0.1  0.0   0.1  0.359   9.8   5.1  15.0   0.1  \n",
       "269  0.537  ...   14.5  40.6  10.0  3.1  13.1  0.245  10.5   0.9  11.4   8.7  \n",
       "19   0.156  ...   15.2  32.1   8.1  5.2  13.2  0.292   5.7   5.2  10.9   7.1  \n",
       "127  0.500  ...    0.0  21.8   0.1  0.0   0.1  0.375   9.7   0.2   9.9   0.0  \n",
       "\n",
       "[5 rows x 27 columns]"
      ]
     },
     "execution_count": 10,
     "metadata": {},
     "output_type": "execute_result"
    }
   ],
   "source": [
    "# Sort by BPM in descending order\n",
    "bpm_lead = df.sort_values('BPM', ascending=False)\n",
    "bpm_lead.head(5)"
   ]
  },
  {
   "cell_type": "code",
   "execution_count": null,
   "metadata": {},
   "outputs": [],
   "source": []
  },
  {
   "cell_type": "code",
   "execution_count": 11,
   "metadata": {},
   "outputs": [
    {
     "data": {
      "text/plain": [
       "2786.0"
      ]
     },
     "execution_count": 11,
     "metadata": {},
     "output_type": "execute_result"
    }
   ],
   "source": [
    "bpm_lead['MP'].max()"
   ]
  },
  {
   "cell_type": "code",
   "execution_count": 12,
   "metadata": {},
   "outputs": [],
   "source": [
    "bpm_min1k = bpm_lead[bpm_lead['MP'] >= 1000]"
   ]
  },
  {
   "cell_type": "code",
   "execution_count": 13,
   "metadata": {},
   "outputs": [
    {
     "data": {
      "text/html": [
       "<div>\n",
       "<style scoped>\n",
       "    .dataframe tbody tr th:only-of-type {\n",
       "        vertical-align: middle;\n",
       "    }\n",
       "\n",
       "    .dataframe tbody tr th {\n",
       "        vertical-align: top;\n",
       "    }\n",
       "\n",
       "    .dataframe thead th {\n",
       "        text-align: right;\n",
       "    }\n",
       "</style>\n",
       "<table border=\"1\" class=\"dataframe\">\n",
       "  <thead>\n",
       "    <tr style=\"text-align: right;\">\n",
       "      <th></th>\n",
       "      <th>Rk</th>\n",
       "      <th>Player</th>\n",
       "      <th>Pos</th>\n",
       "      <th>Age</th>\n",
       "      <th>Tm</th>\n",
       "      <th>G</th>\n",
       "      <th>MP</th>\n",
       "      <th>PER</th>\n",
       "      <th>TS%</th>\n",
       "      <th>3PAr</th>\n",
       "      <th>...</th>\n",
       "      <th>TOV%</th>\n",
       "      <th>USG%</th>\n",
       "      <th>OWS</th>\n",
       "      <th>DWS</th>\n",
       "      <th>WS</th>\n",
       "      <th>WS/48</th>\n",
       "      <th>OBPM</th>\n",
       "      <th>DBPM</th>\n",
       "      <th>BPM</th>\n",
       "      <th>VORP</th>\n",
       "    </tr>\n",
       "  </thead>\n",
       "  <tbody>\n",
       "    <tr>\n",
       "      <th>204</th>\n",
       "      <td>154.0</td>\n",
       "      <td>Joel Embiid</td>\n",
       "      <td>C</td>\n",
       "      <td>24.0</td>\n",
       "      <td>PHI</td>\n",
       "      <td>60.0</td>\n",
       "      <td>2031.0</td>\n",
       "      <td>25.9</td>\n",
       "      <td>0.595</td>\n",
       "      <td>0.218</td>\n",
       "      <td>...</td>\n",
       "      <td>13.4</td>\n",
       "      <td>33.0</td>\n",
       "      <td>4.7</td>\n",
       "      <td>3.6</td>\n",
       "      <td>8.3</td>\n",
       "      <td>0.196</td>\n",
       "      <td>1.7</td>\n",
       "      <td>2.0</td>\n",
       "      <td>3.7</td>\n",
       "      <td>2.9</td>\n",
       "    </tr>\n",
       "  </tbody>\n",
       "</table>\n",
       "<p>1 rows × 27 columns</p>\n",
       "</div>"
      ],
      "text/plain": [
       "        Rk       Player Pos   Age   Tm     G      MP   PER    TS%   3PAr  \\\n",
       "204  154.0  Joel Embiid   C  24.0  PHI  60.0  2031.0  25.9  0.595  0.218   \n",
       "\n",
       "     ...   TOV%  USG%  OWS  DWS   WS  WS/48  OBPM  DBPM  BPM  VORP  \n",
       "204  ...   13.4  33.0  4.7  3.6  8.3  0.196   1.7   2.0  3.7   2.9  \n",
       "\n",
       "[1 rows x 27 columns]"
      ]
     },
     "execution_count": 13,
     "metadata": {},
     "output_type": "execute_result"
    }
   ],
   "source": [
    "bpm_min1k[bpm_min1k['Player'] == 'Joel Embiid']"
   ]
  },
  {
   "cell_type": "code",
   "execution_count": 14,
   "metadata": {},
   "outputs": [
    {
     "data": {
      "text/plain": [
       "269    40.6\n",
       "204    33.0\n",
       "685    32.7\n",
       "71     32.2\n",
       "19     32.1\n",
       "Name: USG%, dtype: float64"
      ]
     },
     "execution_count": 14,
     "metadata": {},
     "output_type": "execute_result"
    }
   ],
   "source": [
    "bpm_min1k.sort_values(['USG%'], ascending=False)['USG%'].head(5)"
   ]
  },
  {
   "cell_type": "code",
   "execution_count": 15,
   "metadata": {},
   "outputs": [
    {
     "data": {
      "text/plain": [
       "269  Rk                 202\n",
       "     Player    James Harden\n",
       "     Pos                 SG\n",
       "     Age                 29\n",
       "     Tm                 HOU\n",
       "     G                   69\n",
       "     MP                2575\n",
       "     PER               30.5\n",
       "     TS%              0.612\n",
       "     3PAr             0.537\n",
       "     FTr              0.453\n",
       "     ORB%               2.5\n",
       "     DRB%              17.2\n",
       "     TRB%               9.7\n",
       "     AST%              39.7\n",
       "dtype: object"
      ]
     },
     "execution_count": 15,
     "metadata": {},
     "output_type": "execute_result"
    }
   ],
   "source": [
    "bpm_min1k.stack()[:15]"
   ]
  },
  {
   "cell_type": "code",
   "execution_count": 16,
   "metadata": {},
   "outputs": [
    {
     "data": {
      "text/plain": [
       "<Figure size 720x1440 with 0 Axes>"
      ]
     },
     "metadata": {},
     "output_type": "display_data"
    }
   ],
   "source": [
    "# Create figure object to plot on\n",
    "fig = plt.figure(figsize=(10, 20))"
   ]
  },
  {
   "cell_type": "code",
   "execution_count": 17,
   "metadata": {},
   "outputs": [
    {
     "data": {
      "text/plain": [
       "<matplotlib.axes._subplots.AxesSubplot at 0x23451a162e8>"
      ]
     },
     "execution_count": 17,
     "metadata": {},
     "output_type": "execute_result"
    }
   ],
   "source": [
    "# Create subplot of Figure object\n",
    "ax1 = fig.add_subplot(1,1,1)\n",
    "ax1"
   ]
  },
  {
   "cell_type": "code",
   "execution_count": 18,
   "metadata": {},
   "outputs": [
    {
     "data": {
      "text/plain": [
       "<matplotlib.collections.PathCollection at 0x23452183860>"
      ]
     },
     "execution_count": 18,
     "metadata": {},
     "output_type": "execute_result"
    }
   ],
   "source": [
    "ax1.scatter('BPM', 'USG%', data=bpm_min1k)"
   ]
  },
  {
   "cell_type": "code",
   "execution_count": 19,
   "metadata": {},
   "outputs": [
    {
     "data": {
      "text/plain": [
       "269    11.4\n",
       "19     10.9\n",
       "354     9.8\n",
       "164     8.7\n",
       "334     7.8\n",
       "646     7.4\n",
       "246     6.9\n",
       "660     6.7\n",
       "323     6.7\n",
       "675     6.2\n",
       "Name: BPM, dtype: float64"
      ]
     },
     "execution_count": 19,
     "metadata": {},
     "output_type": "execute_result"
    }
   ],
   "source": [
    "bpm_min1k['BPM'][:10]"
   ]
  },
  {
   "cell_type": "code",
   "execution_count": 20,
   "metadata": {},
   "outputs": [
    {
     "data": {
      "text/plain": [
       "'Num'"
      ]
     },
     "execution_count": 20,
     "metadata": {},
     "output_type": "execute_result"
    }
   ],
   "source": [
    "bpm_min1k.index.name = 'Num'\n",
    "bpm_min1k.index.name"
   ]
  },
  {
   "cell_type": "code",
   "execution_count": 21,
   "metadata": {},
   "outputs": [
    {
     "data": {
      "image/png": "[encoded data removed]",
      "text/plain": [
       "<Figure size 432x288 with 1 Axes>"
      ]
     },
     "metadata": {},
     "output_type": "display_data"
    }
   ],
   "source": [
    "ax1 = plt.subplot2grid((1,1), (0,0))\n",
    "for num, row in bpm_min1k.iterrows():\n",
    "    ax1.scatter(row['TS%'], row['OBPM'], label=num)\n",
    "    \n",
    "ax1.set_xlabel('TS%')\n",
    "ax1.set_ylabel('Offensive Box Plus-Minus')\n",
    "ymin, ymax = ax1.get_ylim()\n",
    "xmin, xmax = ax1.get_xlim()\n",
    "y = np.linspace(ymin, ymax, 5)\n",
    "x = np.linspace(xmin, xmax, 5)\n",
    "ax1.set_title('TS% vs OBPM')\n",
    "ax1.set_yticks(y)\n",
    "ax1.set_yticklabels(np.round(y, 1))\n",
    "ax1.set_xticks(x)\n",
    "ax1.set_xticklabels(np.round(x, 3))\n",
    "plt.show()"
   ]
  },
  {
   "cell_type": "code",
   "execution_count": 22,
   "metadata": {},
   "outputs": [
    {
     "data": {
      "text/plain": [
       "array([0.455  , 0.51175, 0.5685 , 0.62525, 0.682  ])"
      ]
     },
     "execution_count": 22,
     "metadata": {},
     "output_type": "execute_result"
    }
   ],
   "source": [
    "np.linspace(float(bpm_min1k['TS%'].min()), float(bpm_min1k['TS%'].max()), 5)"
   ]
  },
  {
   "cell_type": "code",
   "execution_count": 23,
   "metadata": {},
   "outputs": [],
   "source": [
    "def make_scatter(df, x, y, length=2):\n",
    "    df = df.copy()\n",
    "    ax1 = plt.subplot2grid((1,1), (0,0))\n",
    "    for num, row in df.iterrows():\n",
    "        ax1.scatter(row[x], row[y], label=num)\n",
    "\n",
    "    ax1.set_xlabel(x)\n",
    "    ax1.set_ylabel(y)\n",
    "    ymin, ymax = ax1.get_ylim()\n",
    "    xmin, xmax = ax1.get_xlim()\n",
    "    ys = np.linspace(ymin, ymax, 5)\n",
    "    xs = np.linspace(xmin, xmax, 5)\n",
    "    ax1.set_title('%s vs %s' % (x, y))\n",
    "    ax1.set_yticks(ys)\n",
    "    ax1.set_yticklabels(np.round(ys, length))\n",
    "    ax1.set_xticks(xs)\n",
    "    ax1.set_xticklabels(np.round(xs, length))\n",
    "    #ax1.legend(bbox_to_anchor=(1.04,1))\n",
    "    plt.show()"
   ]
  },
  {
   "cell_type": "code",
   "execution_count": 24,
   "metadata": {},
   "outputs": [
    {
     "data": {
      "image/png": "[encoded data removed]",
      "text/plain": [
       "<Figure size 432x288 with 1 Axes>"
      ]
     },
     "metadata": {},
     "output_type": "display_data"
    }
   ],
   "source": [
    "make_scatter(bpm_min1k, 'AST%', 'TOV%', length=3)"
   ]
  },
  {
   "cell_type": "code",
   "execution_count": 25,
   "metadata": {},
   "outputs": [
    {
     "data": {
      "text/plain": [
       "Rk                   79\n",
       "Player    Thomas Bryant\n",
       "Pos                   C\n",
       "Age                  21\n",
       "Tm                  WAS\n",
       "G                    64\n",
       "MP                 1251\n",
       "PER                21.3\n",
       "TS%               0.682\n",
       "3PAr              0.184\n",
       "FTr               0.278\n",
       "ORB%                  8\n",
       "DRB%               24.6\n",
       "TRB%               16.2\n",
       "AST%                8.8\n",
       "STL%                0.9\n",
       "BLK%                3.9\n",
       "TOV%                  9\n",
       "USG%               17.3\n",
       "OWS                 3.8\n",
       "DWS                 1.1\n",
       "WS                  4.9\n",
       "WS/48             0.186\n",
       "OBPM                1.3\n",
       "DBPM                0.3\n",
       "BPM                 1.6\n",
       "VORP                1.1\n",
       "Name: 93, dtype: object"
      ]
     },
     "execution_count": 25,
     "metadata": {},
     "output_type": "execute_result"
    }
   ],
   "source": [
    "bpm_min1k.loc[bpm_min1k['TS%'].idxmax(), :]"
   ]
  },
  {
   "cell_type": "code",
   "execution_count": 26,
   "metadata": {
    "scrolled": true
   },
   "outputs": [
    {
     "data": {
      "text/plain": [
       "{'G': (48, 667),\n",
       " 'MP': (48, 403),\n",
       " 'PER': (19, 74),\n",
       " 'TS%': (93, 87),\n",
       " '3PAr': (461, 246),\n",
       " 'FTr': (246, 74),\n",
       " 'ORB%': (192, 379),\n",
       " 'DRB%': (361, 220),\n",
       " 'TRB%': (678, 220),\n",
       " 'AST%': (675, 448),\n",
       " 'STL%': (604, 410),\n",
       " 'BLK%': (567, 66),\n",
       " 'TOV%': (257, 233),\n",
       " 'USG%': (269, 649),\n",
       " 'OWS': (269, 329),\n",
       " 'DWS': (19, 589),\n",
       " 'WS': (19, 329),\n",
       " 'WS/48': (19, 329),\n",
       " 'OBPM': (269, 329),\n",
       " 'DBPM': (567, 156),\n",
       " 'BPM': (269, 156),\n",
       " 'VORP': (269, 589)}"
      ]
     },
     "execution_count": 26,
     "metadata": {},
     "output_type": "execute_result"
    }
   ],
   "source": [
    "maxmin = {}\n",
    "for i in ['G', 'MP', 'PER', 'TS%', '3PAr',\n",
    "       'FTr', 'ORB%', 'DRB%', 'TRB%', 'AST%', 'STL%', 'BLK%', 'TOV%', 'USG%', 'OWS', 'DWS', 'WS', 'WS/48', 'OBPM',\n",
    "       'DBPM', 'BPM', 'VORP']:\n",
    "    maxmin[i] = (bpm_min1k[i].astype(float).idxmax(), bpm_min1k[i].astype(float).idxmin())\n",
    "\n",
    "maxmin"
   ]
  },
  {
   "cell_type": "code",
   "execution_count": 27,
   "metadata": {},
   "outputs": [],
   "source": [
    "with open(r'C:\\Users\\afs95\\MyPython\\Basketball\\CurrentAdvancedLeaders.txt', 'w') as f:\n",
    "    f.write('Current league leaders with minimum of 1000MP:\\n')\n",
    "    for key in maxmin.keys():\n",
    "        f.write('Current %s leader in the league is: %s\\n' % (key, bpm_min1k.loc[maxmin[key][0], 'Player']))\n",
    "        f.write('Worst %s in the league is: %s\\n' % (key, bpm_min1k.loc[maxmin[key][1], 'Player']))"
   ]
  },
  {
   "cell_type": "code",
   "execution_count": 28,
   "metadata": {},
   "outputs": [],
   "source": [
    "stats_cols = list(maxmin.keys())"
   ]
  },
  {
   "cell_type": "code",
   "execution_count": 29,
   "metadata": {},
   "outputs": [],
   "source": [
    "#for i in list(maxmin.keys()):\n",
    "#        make_scatter(bpm_min1k, 'TS%', i)"
   ]
  },
  {
   "cell_type": "code",
   "execution_count": 30,
   "metadata": {},
   "outputs": [],
   "source": [
    "#for line in open(r'C:\\Users\\afs95\\MyPython\\Basketball\\CurrentAdvancedLeaders.txt').readlines():\n",
    "#    print(line)"
   ]
  },
  {
   "cell_type": "code",
   "execution_count": 31,
   "metadata": {
    "scrolled": true
   },
   "outputs": [],
   "source": [
    "import Stats"
   ]
  },
  {
   "cell_type": "code",
   "execution_count": 32,
   "metadata": {},
   "outputs": [
    {
     "data": {
      "text/plain": [
       "<Stats.Stats at 0x234526104e0>"
      ]
     },
     "execution_count": 32,
     "metadata": {},
     "output_type": "execute_result"
    }
   ],
   "source": [
    "x = Stats.Stats()\n",
    "x"
   ]
  },
  {
   "cell_type": "code",
   "execution_count": 33,
   "metadata": {},
   "outputs": [
    {
     "data": {
      "text/plain": [
       "['leader_dict', 'league_leader']"
      ]
     },
     "execution_count": 33,
     "metadata": {},
     "output_type": "execute_result"
    }
   ],
   "source": [
    "[i for i in x.__dir__() if not i.startswith('__')]"
   ]
  },
  {
   "cell_type": "code",
   "execution_count": 34,
   "metadata": {},
   "outputs": [
    {
     "data": {
      "text/plain": [
       "'Find the player with the lowest and highest of a stat\\n        and write to a file'"
      ]
     },
     "execution_count": 34,
     "metadata": {},
     "output_type": "execute_result"
    }
   ],
   "source": [
    "x.league_leader.__doc__"
   ]
  },
  {
   "cell_type": "code",
   "execution_count": null,
   "metadata": {},
   "outputs": [],
   "source": [
    "#imp.reload(Stats)"
   ]
  },
  {
   "cell_type": "code",
   "execution_count": 36,
   "metadata": {},
   "outputs": [],
   "source": [
    "import datetime"
   ]
  },
  {
   "cell_type": "code",
   "execution_count": 39,
   "metadata": {},
   "outputs": [],
   "source": [
    "file = 'AdvancedStatLeaders_%s%s%s.txt' % (datetime.datetime.today().month, datetime.datetime.today().day, datetime.datetime.today().year)"
   ]
  },
  {
   "cell_type": "code",
   "execution_count": 40,
   "metadata": {},
   "outputs": [],
   "source": [
    "x.league_leader(bpm_min1k, stats_cols, file)"
   ]
  },
  {
   "cell_type": "code",
   "execution_count": null,
   "metadata": {},
   "outputs": [],
   "source": []
  },
  {
   "cell_type": "code",
   "execution_count": 41,
   "metadata": {},
   "outputs": [],
   "source": [
    "import imp"
   ]
  },
  {
   "cell_type": "code",
   "execution_count": 42,
   "metadata": {},
   "outputs": [
    {
     "data": {
      "text/plain": [
       "<module 'Stats' from 'C:\\\\Users\\\\afs95\\\\MyPython\\\\Basketball\\\\Stats.py'>"
      ]
     },
     "execution_count": 42,
     "metadata": {},
     "output_type": "execute_result"
    }
   ],
   "source": [
    "imp.reload(Stats)"
   ]
  },
  {
   "cell_type": "code",
   "execution_count": 45,
   "metadata": {},
   "outputs": [],
   "source": [
    "stats = Stats.Stats(bpm_min1k)"
   ]
  },
  {
   "cell_type": "code",
   "execution_count": 54,
   "metadata": {},
   "outputs": [
    {
     "data": {
      "text/html": [
       "<div>\n",
       "<style scoped>\n",
       "    .dataframe tbody tr th:only-of-type {\n",
       "        vertical-align: middle;\n",
       "    }\n",
       "\n",
       "    .dataframe tbody tr th {\n",
       "        vertical-align: top;\n",
       "    }\n",
       "\n",
       "    .dataframe thead th {\n",
       "        text-align: right;\n",
       "    }\n",
       "</style>\n",
       "<table border=\"1\" class=\"dataframe\">\n",
       "  <thead>\n",
       "    <tr style=\"text-align: right;\">\n",
       "      <th></th>\n",
       "      <th>Rk</th>\n",
       "      <th>Player</th>\n",
       "      <th>Pos</th>\n",
       "      <th>Age</th>\n",
       "      <th>Tm</th>\n",
       "      <th>G</th>\n",
       "      <th>MP</th>\n",
       "      <th>PER</th>\n",
       "      <th>TS%</th>\n",
       "      <th>3PAr</th>\n",
       "      <th>...</th>\n",
       "      <th>TOV%</th>\n",
       "      <th>USG%</th>\n",
       "      <th>OWS</th>\n",
       "      <th>DWS</th>\n",
       "      <th>WS</th>\n",
       "      <th>WS/48</th>\n",
       "      <th>OBPM</th>\n",
       "      <th>DBPM</th>\n",
       "      <th>BPM</th>\n",
       "      <th>VORP</th>\n",
       "    </tr>\n",
       "    <tr>\n",
       "      <th>Num</th>\n",
       "      <th></th>\n",
       "      <th></th>\n",
       "      <th></th>\n",
       "      <th></th>\n",
       "      <th></th>\n",
       "      <th></th>\n",
       "      <th></th>\n",
       "      <th></th>\n",
       "      <th></th>\n",
       "      <th></th>\n",
       "      <th></th>\n",
       "      <th></th>\n",
       "      <th></th>\n",
       "      <th></th>\n",
       "      <th></th>\n",
       "      <th></th>\n",
       "      <th></th>\n",
       "      <th></th>\n",
       "      <th></th>\n",
       "      <th></th>\n",
       "      <th></th>\n",
       "    </tr>\n",
       "  </thead>\n",
       "  <tbody>\n",
       "    <tr>\n",
       "      <th>420</th>\n",
       "      <td>311.0</td>\n",
       "      <td>Shelvin Mack</td>\n",
       "      <td>PG</td>\n",
       "      <td>28.0</td>\n",
       "      <td>TOT</td>\n",
       "      <td>56.0</td>\n",
       "      <td>1236.0</td>\n",
       "      <td>10.7</td>\n",
       "      <td>0.491</td>\n",
       "      <td>0.326</td>\n",
       "      <td>...</td>\n",
       "      <td>12.8</td>\n",
       "      <td>18.1</td>\n",
       "      <td>-0.1</td>\n",
       "      <td>1.1</td>\n",
       "      <td>1.0</td>\n",
       "      <td>0.040</td>\n",
       "      <td>-2.4</td>\n",
       "      <td>-1.5</td>\n",
       "      <td>-3.9</td>\n",
       "      <td>-0.6</td>\n",
       "    </tr>\n",
       "    <tr>\n",
       "      <th>648</th>\n",
       "      <td>469.0</td>\n",
       "      <td>Allonzo Trier</td>\n",
       "      <td>SG</td>\n",
       "      <td>23.0</td>\n",
       "      <td>NYK</td>\n",
       "      <td>64.0</td>\n",
       "      <td>1459.0</td>\n",
       "      <td>12.2</td>\n",
       "      <td>0.564</td>\n",
       "      <td>0.255</td>\n",
       "      <td>...</td>\n",
       "      <td>15.8</td>\n",
       "      <td>21.3</td>\n",
       "      <td>0.5</td>\n",
       "      <td>0.5</td>\n",
       "      <td>0.9</td>\n",
       "      <td>0.030</td>\n",
       "      <td>-2.1</td>\n",
       "      <td>-2.0</td>\n",
       "      <td>-4.0</td>\n",
       "      <td>-0.7</td>\n",
       "    </tr>\n",
       "    <tr>\n",
       "      <th>290</th>\n",
       "      <td>218.0</td>\n",
       "      <td>Mario Hezonja</td>\n",
       "      <td>SF</td>\n",
       "      <td>23.0</td>\n",
       "      <td>NYK</td>\n",
       "      <td>52.0</td>\n",
       "      <td>1027.0</td>\n",
       "      <td>10.3</td>\n",
       "      <td>0.489</td>\n",
       "      <td>0.336</td>\n",
       "      <td>...</td>\n",
       "      <td>12.9</td>\n",
       "      <td>20.5</td>\n",
       "      <td>-0.9</td>\n",
       "      <td>0.9</td>\n",
       "      <td>-0.1</td>\n",
       "      <td>-0.003</td>\n",
       "      <td>-3.8</td>\n",
       "      <td>-0.7</td>\n",
       "      <td>-4.5</td>\n",
       "      <td>-0.6</td>\n",
       "    </tr>\n",
       "    <tr>\n",
       "      <th>586</th>\n",
       "      <td>430.0</td>\n",
       "      <td>Wayne Selden</td>\n",
       "      <td>SG</td>\n",
       "      <td>24.0</td>\n",
       "      <td>TOT</td>\n",
       "      <td>67.0</td>\n",
       "      <td>1233.0</td>\n",
       "      <td>8.5</td>\n",
       "      <td>0.501</td>\n",
       "      <td>0.367</td>\n",
       "      <td>...</td>\n",
       "      <td>13.1</td>\n",
       "      <td>18.1</td>\n",
       "      <td>-0.6</td>\n",
       "      <td>0.7</td>\n",
       "      <td>0.0</td>\n",
       "      <td>0.002</td>\n",
       "      <td>-3.3</td>\n",
       "      <td>-1.6</td>\n",
       "      <td>-4.9</td>\n",
       "      <td>-0.9</td>\n",
       "    </tr>\n",
       "    <tr>\n",
       "      <th>329</th>\n",
       "      <td>249.0</td>\n",
       "      <td>Josh Jackson</td>\n",
       "      <td>SG</td>\n",
       "      <td>21.0</td>\n",
       "      <td>PHO</td>\n",
       "      <td>73.0</td>\n",
       "      <td>1771.0</td>\n",
       "      <td>10.2</td>\n",
       "      <td>0.483</td>\n",
       "      <td>0.263</td>\n",
       "      <td>...</td>\n",
       "      <td>16.6</td>\n",
       "      <td>24.2</td>\n",
       "      <td>-2.8</td>\n",
       "      <td>1.1</td>\n",
       "      <td>-1.7</td>\n",
       "      <td>-0.047</td>\n",
       "      <td>-4.7</td>\n",
       "      <td>-0.5</td>\n",
       "      <td>-5.1</td>\n",
       "      <td>-1.4</td>\n",
       "    </tr>\n",
       "    <tr>\n",
       "      <th>327</th>\n",
       "      <td>247.0</td>\n",
       "      <td>Frank Jackson</td>\n",
       "      <td>PG</td>\n",
       "      <td>20.0</td>\n",
       "      <td>NOP</td>\n",
       "      <td>59.0</td>\n",
       "      <td>1109.0</td>\n",
       "      <td>8.9</td>\n",
       "      <td>0.509</td>\n",
       "      <td>0.373</td>\n",
       "      <td>...</td>\n",
       "      <td>9.1</td>\n",
       "      <td>18.2</td>\n",
       "      <td>-0.1</td>\n",
       "      <td>0.4</td>\n",
       "      <td>0.3</td>\n",
       "      <td>0.014</td>\n",
       "      <td>-2.4</td>\n",
       "      <td>-2.7</td>\n",
       "      <td>-5.1</td>\n",
       "      <td>-0.9</td>\n",
       "    </tr>\n",
       "    <tr>\n",
       "      <th>526</th>\n",
       "      <td>384.0</td>\n",
       "      <td>Tony Parker</td>\n",
       "      <td>PG</td>\n",
       "      <td>36.0</td>\n",
       "      <td>CHO</td>\n",
       "      <td>56.0</td>\n",
       "      <td>1003.0</td>\n",
       "      <td>15.4</td>\n",
       "      <td>0.512</td>\n",
       "      <td>0.110</td>\n",
       "      <td>...</td>\n",
       "      <td>12.7</td>\n",
       "      <td>25.3</td>\n",
       "      <td>0.7</td>\n",
       "      <td>0.4</td>\n",
       "      <td>1.0</td>\n",
       "      <td>0.050</td>\n",
       "      <td>-1.5</td>\n",
       "      <td>-3.7</td>\n",
       "      <td>-5.2</td>\n",
       "      <td>-0.8</td>\n",
       "    </tr>\n",
       "    <tr>\n",
       "      <th>589</th>\n",
       "      <td>431.0</td>\n",
       "      <td>Collin Sexton</td>\n",
       "      <td>PG</td>\n",
       "      <td>20.0</td>\n",
       "      <td>CLE</td>\n",
       "      <td>73.0</td>\n",
       "      <td>2269.0</td>\n",
       "      <td>11.7</td>\n",
       "      <td>0.515</td>\n",
       "      <td>0.230</td>\n",
       "      <td>...</td>\n",
       "      <td>12.5</td>\n",
       "      <td>25.3</td>\n",
       "      <td>-0.4</td>\n",
       "      <td>-0.3</td>\n",
       "      <td>-0.7</td>\n",
       "      <td>-0.014</td>\n",
       "      <td>-1.8</td>\n",
       "      <td>-3.5</td>\n",
       "      <td>-5.3</td>\n",
       "      <td>-1.9</td>\n",
       "    </tr>\n",
       "    <tr>\n",
       "      <th>375</th>\n",
       "      <td>278.0</td>\n",
       "      <td>Kevin Knox</td>\n",
       "      <td>PF</td>\n",
       "      <td>19.0</td>\n",
       "      <td>NYK</td>\n",
       "      <td>66.0</td>\n",
       "      <td>1872.0</td>\n",
       "      <td>8.7</td>\n",
       "      <td>0.474</td>\n",
       "      <td>0.391</td>\n",
       "      <td>...</td>\n",
       "      <td>9.9</td>\n",
       "      <td>22.1</td>\n",
       "      <td>-1.8</td>\n",
       "      <td>0.7</td>\n",
       "      <td>-1.1</td>\n",
       "      <td>-0.028</td>\n",
       "      <td>-3.5</td>\n",
       "      <td>-2.4</td>\n",
       "      <td>-5.9</td>\n",
       "      <td>-1.8</td>\n",
       "    </tr>\n",
       "    <tr>\n",
       "      <th>156</th>\n",
       "      <td>118.0</td>\n",
       "      <td>Jamal Crawford</td>\n",
       "      <td>SG</td>\n",
       "      <td>38.0</td>\n",
       "      <td>PHO</td>\n",
       "      <td>58.0</td>\n",
       "      <td>1021.0</td>\n",
       "      <td>9.0</td>\n",
       "      <td>0.476</td>\n",
       "      <td>0.457</td>\n",
       "      <td>...</td>\n",
       "      <td>18.4</td>\n",
       "      <td>19.6</td>\n",
       "      <td>-0.8</td>\n",
       "      <td>0.1</td>\n",
       "      <td>-0.7</td>\n",
       "      <td>-0.033</td>\n",
       "      <td>-3.7</td>\n",
       "      <td>-3.8</td>\n",
       "      <td>-7.5</td>\n",
       "      <td>-1.4</td>\n",
       "    </tr>\n",
       "  </tbody>\n",
       "</table>\n",
       "<p>10 rows × 27 columns</p>\n",
       "</div>"
      ],
      "text/plain": [
       "        Rk          Player Pos   Age   Tm     G      MP   PER    TS%   3PAr  \\\n",
       "Num                                                                           \n",
       "420  311.0    Shelvin Mack  PG  28.0  TOT  56.0  1236.0  10.7  0.491  0.326   \n",
       "648  469.0   Allonzo Trier  SG  23.0  NYK  64.0  1459.0  12.2  0.564  0.255   \n",
       "290  218.0   Mario Hezonja  SF  23.0  NYK  52.0  1027.0  10.3  0.489  0.336   \n",
       "586  430.0    Wayne Selden  SG  24.0  TOT  67.0  1233.0   8.5  0.501  0.367   \n",
       "329  249.0    Josh Jackson  SG  21.0  PHO  73.0  1771.0  10.2  0.483  0.263   \n",
       "327  247.0   Frank Jackson  PG  20.0  NOP  59.0  1109.0   8.9  0.509  0.373   \n",
       "526  384.0     Tony Parker  PG  36.0  CHO  56.0  1003.0  15.4  0.512  0.110   \n",
       "589  431.0   Collin Sexton  PG  20.0  CLE  73.0  2269.0  11.7  0.515  0.230   \n",
       "375  278.0      Kevin Knox  PF  19.0  NYK  66.0  1872.0   8.7  0.474  0.391   \n",
       "156  118.0  Jamal Crawford  SG  38.0  PHO  58.0  1021.0   9.0  0.476  0.457   \n",
       "\n",
       "     ...   TOV%  USG%  OWS  DWS   WS  WS/48  OBPM  DBPM  BPM  VORP  \n",
       "Num  ...                                                            \n",
       "420  ...   12.8  18.1 -0.1  1.1  1.0  0.040  -2.4  -1.5 -3.9  -0.6  \n",
       "648  ...   15.8  21.3  0.5  0.5  0.9  0.030  -2.1  -2.0 -4.0  -0.7  \n",
       "290  ...   12.9  20.5 -0.9  0.9 -0.1 -0.003  -3.8  -0.7 -4.5  -0.6  \n",
       "586  ...   13.1  18.1 -0.6  0.7  0.0  0.002  -3.3  -1.6 -4.9  -0.9  \n",
       "329  ...   16.6  24.2 -2.8  1.1 -1.7 -0.047  -4.7  -0.5 -5.1  -1.4  \n",
       "327  ...    9.1  18.2 -0.1  0.4  0.3  0.014  -2.4  -2.7 -5.1  -0.9  \n",
       "526  ...   12.7  25.3  0.7  0.4  1.0  0.050  -1.5  -3.7 -5.2  -0.8  \n",
       "589  ...   12.5  25.3 -0.4 -0.3 -0.7 -0.014  -1.8  -3.5 -5.3  -1.9  \n",
       "375  ...    9.9  22.1 -1.8  0.7 -1.1 -0.028  -3.5  -2.4 -5.9  -1.8  \n",
       "156  ...   18.4  19.6 -0.8  0.1 -0.7 -0.033  -3.7  -3.8 -7.5  -1.4  \n",
       "\n",
       "[10 rows x 27 columns]"
      ]
     },
     "execution_count": 54,
     "metadata": {},
     "output_type": "execute_result"
    }
   ],
   "source": [
    "stats.find_leaders('BPM')[269:]"
   ]
  },
  {
   "cell_type": "code",
   "execution_count": 1,
   "metadata": {},
   "outputs": [],
   "source": [
    "import seaborn as sns"
   ]
  },
  {
   "cell_type": "code",
   "execution_count": null,
   "metadata": {},
   "outputs": [],
   "source": []
  },
  {
   "cell_type": "code",
   "execution_count": null,
   "metadata": {},
   "outputs": [],
   "source": []
  }
 ],
 "metadata": {
  "kernelspec": {
   "display_name": "Python 3",
   "language": "python",
   "name": "python3"
  },
  "language_info": {
   "codemirror_mode": {
    "name": "ipython",
    "version": 3
   },
   "file_extension": ".py",
   "mimetype": "text/x-python",
   "name": "python",
   "nbconvert_exporter": "python",
   "pygments_lexer": "ipython3",
   "version": "3.6.5"
  }
 },
 "nbformat": 4,
 "nbformat_minor": 2
}
